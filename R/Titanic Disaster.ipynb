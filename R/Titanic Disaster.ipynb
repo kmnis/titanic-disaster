{
 "cells": [
  {
   "cell_type": "code",
   "execution_count": 1,
   "metadata": {
    "collapsed": true
   },
   "outputs": [],
   "source": [
    "## FOLLOWING SOLUTION MODEL GIVES ACCURACY OF ABOUT 0.80861"
   ]
  },
  {
   "cell_type": "code",
   "execution_count": 2,
   "metadata": {
    "collapsed": true
   },
   "outputs": [],
   "source": [
    "## load the datasets into R\n",
    "train = read.csv(\"train.csv\", na.strings = c(\"\", NA))\n",
    "test = read.csv(\"test.csv\", na.strings = c(\"\", NA))"
   ]
  },
  {
   "cell_type": "code",
   "execution_count": 3,
   "metadata": {
    "collapsed": false,
    "scrolled": false
   },
   "outputs": [
    {
     "name": "stdout",
     "output_type": "stream",
     "text": [
      "'data.frame':\t891 obs. of  12 variables:\n",
      " $ PassengerId: int  1 2 3 4 5 6 7 8 9 10 ...\n",
      " $ Survived   : int  0 1 1 1 0 0 0 0 1 1 ...\n",
      " $ Pclass     : int  3 1 3 1 3 3 1 3 3 2 ...\n",
      " $ Name       : Factor w/ 891 levels \"Abbing, Mr. Anthony\",..: 109 191 358 277 16 559 520 629 417 581 ...\n",
      " $ Sex        : Factor w/ 2 levels \"female\",\"male\": 2 1 1 1 2 2 2 2 1 1 ...\n",
      " $ Age        : num  22 38 26 35 35 NA 54 2 27 14 ...\n",
      " $ SibSp      : int  1 1 0 1 0 0 0 3 0 1 ...\n",
      " $ Parch      : int  0 0 0 0 0 0 0 1 2 0 ...\n",
      " $ Ticket     : Factor w/ 681 levels \"110152\",\"110413\",..: 524 597 670 50 473 276 86 396 345 133 ...\n",
      " $ Fare       : num  7.25 71.28 7.92 53.1 8.05 ...\n",
      " $ Cabin      : Factor w/ 147 levels \"A10\",\"A14\",\"A16\",..: NA 82 NA 56 NA NA 130 NA NA NA ...\n",
      " $ Embarked   : Factor w/ 3 levels \"C\",\"Q\",\"S\": 3 1 3 3 3 2 3 3 3 1 ...\n"
     ]
    }
   ],
   "source": [
    "## examine the datasets\n",
    "str(train)"
   ]
  },
  {
   "cell_type": "code",
   "execution_count": 4,
   "metadata": {
    "collapsed": false,
    "scrolled": true
   },
   "outputs": [
    {
     "data": {
      "text/plain": [
       "  PassengerId       Survived          Pclass     \n",
       " Min.   :  1.0   Min.   :0.0000   Min.   :1.000  \n",
       " 1st Qu.:223.5   1st Qu.:0.0000   1st Qu.:2.000  \n",
       " Median :446.0   Median :0.0000   Median :3.000  \n",
       " Mean   :446.0   Mean   :0.3838   Mean   :2.309  \n",
       " 3rd Qu.:668.5   3rd Qu.:1.0000   3rd Qu.:3.000  \n",
       " Max.   :891.0   Max.   :1.0000   Max.   :3.000  \n",
       "                                                 \n",
       "                                    Name         Sex           Age       \n",
       " Abbing, Mr. Anthony                  :  1   female:314   Min.   : 0.42  \n",
       " Abbott, Mr. Rossmore Edward          :  1   male  :577   1st Qu.:20.12  \n",
       " Abbott, Mrs. Stanton (Rosa Hunt)     :  1                Median :28.00  \n",
       " Abelson, Mr. Samuel                  :  1                Mean   :29.70  \n",
       " Abelson, Mrs. Samuel (Hannah Wizosky):  1                3rd Qu.:38.00  \n",
       " Adahl, Mr. Mauritz Nils Martin       :  1                Max.   :80.00  \n",
       " (Other)                              :885                NA's   :177    \n",
       "     SibSp           Parch             Ticket         Fare       \n",
       " Min.   :0.000   Min.   :0.0000   1601    :  7   Min.   :  0.00  \n",
       " 1st Qu.:0.000   1st Qu.:0.0000   347082  :  7   1st Qu.:  7.91  \n",
       " Median :0.000   Median :0.0000   CA. 2343:  7   Median : 14.45  \n",
       " Mean   :0.523   Mean   :0.3816   3101295 :  6   Mean   : 32.20  \n",
       " 3rd Qu.:1.000   3rd Qu.:0.0000   347088  :  6   3rd Qu.: 31.00  \n",
       " Max.   :8.000   Max.   :6.0000   CA 2144 :  6   Max.   :512.33  \n",
       "                                  (Other) :852                   \n",
       "         Cabin     Embarked  \n",
       " B96 B98    :  4   C   :168  \n",
       " C23 C25 C27:  4   Q   : 77  \n",
       " G6         :  4   S   :644  \n",
       " C22 C26    :  3   NA's:  2  \n",
       " D          :  3             \n",
       " (Other)    :186             \n",
       " NA's       :687             "
      ]
     },
     "metadata": {},
     "output_type": "display_data"
    }
   ],
   "source": [
    "summary(train)"
   ]
  },
  {
   "cell_type": "code",
   "execution_count": 5,
   "metadata": {
    "collapsed": false,
    "scrolled": true
   },
   "outputs": [
    {
     "data": {
      "text/plain": [
       "  PassengerId         Pclass     \n",
       " Min.   : 892.0   Min.   :1.000  \n",
       " 1st Qu.: 996.2   1st Qu.:1.000  \n",
       " Median :1100.5   Median :3.000  \n",
       " Mean   :1100.5   Mean   :2.266  \n",
       " 3rd Qu.:1204.8   3rd Qu.:3.000  \n",
       " Max.   :1309.0   Max.   :3.000  \n",
       "                                 \n",
       "                                        Name         Sex           Age       \n",
       " Abbott, Master. Eugene Joseph            :  1   female:152   Min.   : 0.17  \n",
       " Abelseth, Miss. Karen Marie              :  1   male  :266   1st Qu.:21.00  \n",
       " Abelseth, Mr. Olaus Jorgensen            :  1                Median :27.00  \n",
       " Abrahamsson, Mr. Abraham August Johannes :  1                Mean   :30.27  \n",
       " Abrahim, Mrs. Joseph (Sophie Halaut Easu):  1                3rd Qu.:39.00  \n",
       " Aks, Master. Philip Frank                :  1                Max.   :76.00  \n",
       " (Other)                                  :412                NA's   :86     \n",
       "     SibSp            Parch             Ticket         Fare        \n",
       " Min.   :0.0000   Min.   :0.0000   PC 17608:  5   Min.   :  0.000  \n",
       " 1st Qu.:0.0000   1st Qu.:0.0000   113503  :  4   1st Qu.:  7.896  \n",
       " Median :0.0000   Median :0.0000   CA. 2343:  4   Median : 14.454  \n",
       " Mean   :0.4474   Mean   :0.3923   16966   :  3   Mean   : 35.627  \n",
       " 3rd Qu.:1.0000   3rd Qu.:0.0000   220845  :  3   3rd Qu.: 31.500  \n",
       " Max.   :8.0000   Max.   :9.0000   347077  :  3   Max.   :512.329  \n",
       "                                   (Other) :396   NA's   :1        \n",
       "             Cabin     Embarked\n",
       " B57 B59 B63 B66:  3   C:102   \n",
       " A34            :  2   Q: 46   \n",
       " B45            :  2   S:270   \n",
       " C101           :  2           \n",
       " C116           :  2           \n",
       " (Other)        : 80           \n",
       " NA's           :327           "
      ]
     },
     "metadata": {},
     "output_type": "display_data"
    }
   ],
   "source": [
    "summary(test)"
   ]
  },
  {
   "cell_type": "code",
   "execution_count": 6,
   "metadata": {
    "collapsed": true
   },
   "outputs": [],
   "source": [
    "## large number of cabin numbers are missing in both the datasets"
   ]
  },
  {
   "cell_type": "code",
   "execution_count": 7,
   "metadata": {
    "collapsed": false
   },
   "outputs": [
    {
     "data": {
      "text/plain": [
       "        \n",
       "                 0         1\n",
       "  female 0.2579618 0.7420382\n",
       "  male   0.8110919 0.1889081"
      ]
     },
     "metadata": {},
     "output_type": "display_data"
    }
   ],
   "source": [
    "## look at fraction of people survived of each gender and class\n",
    "prop.table(table(train$Sex, train$Survived),1)"
   ]
  },
  {
   "cell_type": "code",
   "execution_count": 8,
   "metadata": {
    "collapsed": false
   },
   "outputs": [
    {
     "data": {
      "text/plain": [
       "   \n",
       "            0         1\n",
       "  1 0.3703704 0.6296296\n",
       "  2 0.5271739 0.4728261\n",
       "  3 0.7576375 0.2423625"
      ]
     },
     "metadata": {},
     "output_type": "display_data"
    }
   ],
   "source": [
    "prop.table(table(train$Pclass, train$Survived),1)"
   ]
  },
  {
   "cell_type": "code",
   "execution_count": 9,
   "metadata": {
    "collapsed": false
   },
   "outputs": [
    {
     "data": {
      "text/html": [
       "<table>\n",
       "<thead><tr><th scope=col>Pclass</th><th scope=col>Sex</th><th scope=col>Survived</th></tr></thead>\n",
       "<tbody>\n",
       "\t<tr><td>1        </td><td>female   </td><td>0.9680851</td></tr>\n",
       "\t<tr><td>2        </td><td>female   </td><td>0.9210526</td></tr>\n",
       "\t<tr><td>3        </td><td>female   </td><td>0.5000000</td></tr>\n",
       "\t<tr><td>1        </td><td>male     </td><td>0.3688525</td></tr>\n",
       "\t<tr><td>2        </td><td>male     </td><td>0.1574074</td></tr>\n",
       "\t<tr><td>3        </td><td>male     </td><td>0.1354467</td></tr>\n",
       "</tbody>\n",
       "</table>\n"
      ],
      "text/latex": [
       "\\begin{tabular}{r|lll}\n",
       " Pclass & Sex & Survived\\\\\n",
       "\\hline\n",
       "\t 1         & female    & 0.9680851\\\\\n",
       "\t 2         & female    & 0.9210526\\\\\n",
       "\t 3         & female    & 0.5000000\\\\\n",
       "\t 1         & male      & 0.3688525\\\\\n",
       "\t 2         & male      & 0.1574074\\\\\n",
       "\t 3         & male      & 0.1354467\\\\\n",
       "\\end{tabular}\n"
      ],
      "text/markdown": [
       "\n",
       "Pclass | Sex | Survived | \n",
       "|---|---|---|---|---|---|\n",
       "| 1         | female    | 0.9680851 | \n",
       "| 2         | female    | 0.9210526 | \n",
       "| 3         | female    | 0.5000000 | \n",
       "| 1         | male      | 0.3688525 | \n",
       "| 2         | male      | 0.1574074 | \n",
       "| 3         | male      | 0.1354467 | \n",
       "\n",
       "\n"
      ],
      "text/plain": [
       "  Pclass Sex    Survived \n",
       "1 1      female 0.9680851\n",
       "2 2      female 0.9210526\n",
       "3 3      female 0.5000000\n",
       "4 1      male   0.3688525\n",
       "5 2      male   0.1574074\n",
       "6 3      male   0.1354467"
      ]
     },
     "metadata": {},
     "output_type": "display_data"
    }
   ],
   "source": [
    "aggregate(Survived ~ Pclass+Sex, data = train, FUN = function(x){sum(x)/length(x)})"
   ]
  },
  {
   "cell_type": "code",
   "execution_count": 10,
   "metadata": {
    "collapsed": false
   },
   "outputs": [
    {
     "data": {
      "text/plain": [
       "   \n",
       "      0   1\n",
       "  0 445 233\n",
       "  1  53  65\n",
       "  2  40  40\n",
       "  3   2   3\n",
       "  4   4   0\n",
       "  5   4   1\n",
       "  6   1   0"
      ]
     },
     "metadata": {},
     "output_type": "display_data"
    }
   ],
   "source": [
    "table(train$Parch, train$Survived)"
   ]
  },
  {
   "cell_type": "code",
   "execution_count": 15,
   "metadata": {
    "collapsed": true
   },
   "outputs": [],
   "source": [
    "## this doesn't tell much except that people having Parch greater than 3 or SibSp above 2 are not likely to survive"
   ]
  },
  {
   "cell_type": "code",
   "execution_count": 16,
   "metadata": {
    "collapsed": false
   },
   "outputs": [
    {
     "data": {
      "text/plain": [
       "   \n",
       "      0   1\n",
       "  0 398 210\n",
       "  1  97 112\n",
       "  2  15  13\n",
       "  3  12   4\n",
       "  4  15   3\n",
       "  5   5   0\n",
       "  8   7   0"
      ]
     },
     "metadata": {},
     "output_type": "display_data"
    }
   ],
   "source": [
    "table(train$SibSp, train$Survived)"
   ]
  },
  {
   "cell_type": "code",
   "execution_count": 18,
   "metadata": {
    "collapsed": false,
    "scrolled": true
   },
   "outputs": [
    {
     "data": {
      "text/html": [
       "<table>\n",
       "<thead><tr><th scope=col>SibSp</th><th scope=col>Sex</th><th scope=col>Survived</th></tr></thead>\n",
       "<tbody>\n",
       "\t<tr><td>0         </td><td>female    </td><td>0.78735632</td></tr>\n",
       "\t<tr><td>1         </td><td>female    </td><td>0.75471698</td></tr>\n",
       "\t<tr><td>2         </td><td>female    </td><td>0.76923077</td></tr>\n",
       "\t<tr><td>3         </td><td>female    </td><td>0.36363636</td></tr>\n",
       "\t<tr><td>4         </td><td>female    </td><td>0.33333333</td></tr>\n",
       "\t<tr><td>5         </td><td>female    </td><td>0.00000000</td></tr>\n",
       "\t<tr><td>8         </td><td>female    </td><td>0.00000000</td></tr>\n",
       "\t<tr><td>0         </td><td>male      </td><td>0.16820276</td></tr>\n",
       "\t<tr><td>1         </td><td>male      </td><td>0.31067961</td></tr>\n",
       "\t<tr><td>2         </td><td>male      </td><td>0.20000000</td></tr>\n",
       "\t<tr><td>3         </td><td>male      </td><td>0.00000000</td></tr>\n",
       "\t<tr><td>4         </td><td>male      </td><td>0.08333333</td></tr>\n",
       "\t<tr><td>5         </td><td>male      </td><td>0.00000000</td></tr>\n",
       "\t<tr><td>8         </td><td>male      </td><td>0.00000000</td></tr>\n",
       "</tbody>\n",
       "</table>\n"
      ],
      "text/latex": [
       "\\begin{tabular}{r|lll}\n",
       " SibSp & Sex & Survived\\\\\n",
       "\\hline\n",
       "\t 0          & female     & 0.78735632\\\\\n",
       "\t 1          & female     & 0.75471698\\\\\n",
       "\t 2          & female     & 0.76923077\\\\\n",
       "\t 3          & female     & 0.36363636\\\\\n",
       "\t 4          & female     & 0.33333333\\\\\n",
       "\t 5          & female     & 0.00000000\\\\\n",
       "\t 8          & female     & 0.00000000\\\\\n",
       "\t 0          & male       & 0.16820276\\\\\n",
       "\t 1          & male       & 0.31067961\\\\\n",
       "\t 2          & male       & 0.20000000\\\\\n",
       "\t 3          & male       & 0.00000000\\\\\n",
       "\t 4          & male       & 0.08333333\\\\\n",
       "\t 5          & male       & 0.00000000\\\\\n",
       "\t 8          & male       & 0.00000000\\\\\n",
       "\\end{tabular}\n"
      ],
      "text/markdown": [
       "\n",
       "SibSp | Sex | Survived | \n",
       "|---|---|---|---|---|---|---|---|---|---|---|---|---|---|\n",
       "| 0          | female     | 0.78735632 | \n",
       "| 1          | female     | 0.75471698 | \n",
       "| 2          | female     | 0.76923077 | \n",
       "| 3          | female     | 0.36363636 | \n",
       "| 4          | female     | 0.33333333 | \n",
       "| 5          | female     | 0.00000000 | \n",
       "| 8          | female     | 0.00000000 | \n",
       "| 0          | male       | 0.16820276 | \n",
       "| 1          | male       | 0.31067961 | \n",
       "| 2          | male       | 0.20000000 | \n",
       "| 3          | male       | 0.00000000 | \n",
       "| 4          | male       | 0.08333333 | \n",
       "| 5          | male       | 0.00000000 | \n",
       "| 8          | male       | 0.00000000 | \n",
       "\n",
       "\n"
      ],
      "text/plain": [
       "   SibSp Sex    Survived  \n",
       "1  0     female 0.78735632\n",
       "2  1     female 0.75471698\n",
       "3  2     female 0.76923077\n",
       "4  3     female 0.36363636\n",
       "5  4     female 0.33333333\n",
       "6  5     female 0.00000000\n",
       "7  8     female 0.00000000\n",
       "8  0     male   0.16820276\n",
       "9  1     male   0.31067961\n",
       "10 2     male   0.20000000\n",
       "11 3     male   0.00000000\n",
       "12 4     male   0.08333333\n",
       "13 5     male   0.00000000\n",
       "14 8     male   0.00000000"
      ]
     },
     "metadata": {},
     "output_type": "display_data"
    }
   ],
   "source": [
    "aggregate(Survived ~ SibSp+Sex, data = train, FUN = function(x){sum(x)/length(x)})"
   ]
  },
  {
   "cell_type": "code",
   "execution_count": 19,
   "metadata": {
    "collapsed": false,
    "scrolled": true
   },
   "outputs": [
    {
     "data": {
      "text/html": [
       "<table>\n",
       "<thead><tr><th scope=col>Parch</th><th scope=col>Sex</th><th scope=col>Survived</th></tr></thead>\n",
       "<tbody>\n",
       "\t<tr><td>0        </td><td>female   </td><td>0.7886598</td></tr>\n",
       "\t<tr><td>1        </td><td>female   </td><td>0.7666667</td></tr>\n",
       "\t<tr><td>2        </td><td>female   </td><td>0.6122449</td></tr>\n",
       "\t<tr><td>3        </td><td>female   </td><td>0.7500000</td></tr>\n",
       "\t<tr><td>4        </td><td>female   </td><td>0.0000000</td></tr>\n",
       "\t<tr><td>5        </td><td>female   </td><td>0.2500000</td></tr>\n",
       "\t<tr><td>6        </td><td>female   </td><td>0.0000000</td></tr>\n",
       "\t<tr><td>0        </td><td>male     </td><td>0.1652893</td></tr>\n",
       "\t<tr><td>1        </td><td>male     </td><td>0.3275862</td></tr>\n",
       "\t<tr><td>2        </td><td>male     </td><td>0.3225806</td></tr>\n",
       "\t<tr><td>3        </td><td>male     </td><td>0.0000000</td></tr>\n",
       "\t<tr><td>4        </td><td>male     </td><td>0.0000000</td></tr>\n",
       "\t<tr><td>5        </td><td>male     </td><td>0.0000000</td></tr>\n",
       "</tbody>\n",
       "</table>\n"
      ],
      "text/latex": [
       "\\begin{tabular}{r|lll}\n",
       " Parch & Sex & Survived\\\\\n",
       "\\hline\n",
       "\t 0         & female    & 0.7886598\\\\\n",
       "\t 1         & female    & 0.7666667\\\\\n",
       "\t 2         & female    & 0.6122449\\\\\n",
       "\t 3         & female    & 0.7500000\\\\\n",
       "\t 4         & female    & 0.0000000\\\\\n",
       "\t 5         & female    & 0.2500000\\\\\n",
       "\t 6         & female    & 0.0000000\\\\\n",
       "\t 0         & male      & 0.1652893\\\\\n",
       "\t 1         & male      & 0.3275862\\\\\n",
       "\t 2         & male      & 0.3225806\\\\\n",
       "\t 3         & male      & 0.0000000\\\\\n",
       "\t 4         & male      & 0.0000000\\\\\n",
       "\t 5         & male      & 0.0000000\\\\\n",
       "\\end{tabular}\n"
      ],
      "text/markdown": [
       "\n",
       "Parch | Sex | Survived | \n",
       "|---|---|---|---|---|---|---|---|---|---|---|---|---|\n",
       "| 0         | female    | 0.7886598 | \n",
       "| 1         | female    | 0.7666667 | \n",
       "| 2         | female    | 0.6122449 | \n",
       "| 3         | female    | 0.7500000 | \n",
       "| 4         | female    | 0.0000000 | \n",
       "| 5         | female    | 0.2500000 | \n",
       "| 6         | female    | 0.0000000 | \n",
       "| 0         | male      | 0.1652893 | \n",
       "| 1         | male      | 0.3275862 | \n",
       "| 2         | male      | 0.3225806 | \n",
       "| 3         | male      | 0.0000000 | \n",
       "| 4         | male      | 0.0000000 | \n",
       "| 5         | male      | 0.0000000 | \n",
       "\n",
       "\n"
      ],
      "text/plain": [
       "   Parch Sex    Survived \n",
       "1  0     female 0.7886598\n",
       "2  1     female 0.7666667\n",
       "3  2     female 0.6122449\n",
       "4  3     female 0.7500000\n",
       "5  4     female 0.0000000\n",
       "6  5     female 0.2500000\n",
       "7  6     female 0.0000000\n",
       "8  0     male   0.1652893\n",
       "9  1     male   0.3275862\n",
       "10 2     male   0.3225806\n",
       "11 3     male   0.0000000\n",
       "12 4     male   0.0000000\n",
       "13 5     male   0.0000000"
      ]
     },
     "metadata": {},
     "output_type": "display_data"
    }
   ],
   "source": [
    "aggregate(Survived ~ Parch+Sex, data = train, FUN = function(x){sum(x)/length(x)})"
   ]
  },
  {
   "cell_type": "code",
   "execution_count": 64,
   "metadata": {
    "collapsed": false
   },
   "outputs": [],
   "source": [
    "## Observe the age trends with survival factor, people with age between 20-42 are less likely to survive\n",
    "library(ggplot2, warn.conflicts = F)"
   ]
  },
  {
   "cell_type": "code",
   "execution_count": null,
   "metadata": {
    "collapsed": true
   },
   "outputs": [],
   "source": []
  },
  {
   "cell_type": "code",
   "execution_count": 30,
   "metadata": {
    "collapsed": false,
    "scrolled": true
   },
   "outputs": [
    {
     "name": "stderr",
     "output_type": "stream",
     "text": [
      "Warning message:\n",
      "\"Removed 177 rows containing non-finite values (stat_bin).\""
     ]
    },
    {
     "data": {},
     "metadata": {},
     "output_type": "display_data"
    },
    {
     "data": {
      "image/png": "[encoded data removed]",
      "text/plain": [
       "plot without title"
      ]
     },
     "metadata": {},
     "output_type": "display_data"
    }
   ],
   "source": [
    "ggplot(train, aes(Age)) + geom_histogram(binwidth = 2) + facet_grid(. ~ Survived)"
   ]
  },
  {
   "cell_type": "code",
   "execution_count": 31,
   "metadata": {
    "collapsed": false
   },
   "outputs": [
    {
     "data": {
      "text/plain": [
       "   \n",
       "    FALSE TRUE\n",
       "  0   535   14\n",
       "  1   303   39"
      ]
     },
     "metadata": {},
     "output_type": "display_data"
    }
   ],
   "source": [
    "table(train$Survived,train$Fare>=100)"
   ]
  },
  {
   "cell_type": "code",
   "execution_count": 32,
   "metadata": {
    "collapsed": true
   },
   "outputs": [],
   "source": [
    "## people who paid more than $100 had more chances of surviving"
   ]
  },
  {
   "cell_type": "code",
   "execution_count": 34,
   "metadata": {
    "collapsed": true
   },
   "outputs": [],
   "source": [
    "## now lets combine the datasets to fill the NA values and for feature engineering\n",
    "test$Survived = NA\n",
    "total = rbind(train,test)"
   ]
  },
  {
   "cell_type": "code",
   "execution_count": 35,
   "metadata": {
    "collapsed": false,
    "scrolled": true
   },
   "outputs": [
    {
     "data": {
      "text/plain": [
       "  PassengerId      Survived          Pclass     \n",
       " Min.   :   1   Min.   :0.0000   Min.   :1.000  \n",
       " 1st Qu.: 328   1st Qu.:0.0000   1st Qu.:2.000  \n",
       " Median : 655   Median :0.0000   Median :3.000  \n",
       " Mean   : 655   Mean   :0.3838   Mean   :2.295  \n",
       " 3rd Qu.: 982   3rd Qu.:1.0000   3rd Qu.:3.000  \n",
       " Max.   :1309   Max.   :1.0000   Max.   :3.000  \n",
       "                NA's   :418                     \n",
       "                               Name          Sex           Age       \n",
       " Connolly, Miss. Kate            :   2   female:466   Min.   : 0.17  \n",
       " Kelly, Mr. James                :   2   male  :843   1st Qu.:21.00  \n",
       " Abbing, Mr. Anthony             :   1                Median :28.00  \n",
       " Abbott, Mr. Rossmore Edward     :   1                Mean   :29.88  \n",
       " Abbott, Mrs. Stanton (Rosa Hunt):   1                3rd Qu.:39.00  \n",
       " Abelson, Mr. Samuel             :   1                Max.   :80.00  \n",
       " (Other)                         :1301                NA's   :263    \n",
       "     SibSp            Parch            Ticket          Fare        \n",
       " Min.   :0.0000   Min.   :0.000   CA. 2343:  11   Min.   :  0.000  \n",
       " 1st Qu.:0.0000   1st Qu.:0.000   1601    :   8   1st Qu.:  7.896  \n",
       " Median :0.0000   Median :0.000   CA 2144 :   8   Median : 14.454  \n",
       " Mean   :0.4989   Mean   :0.385   3101295 :   7   Mean   : 33.295  \n",
       " 3rd Qu.:1.0000   3rd Qu.:0.000   347077  :   7   3rd Qu.: 31.275  \n",
       " Max.   :8.0000   Max.   :9.000   347082  :   7   Max.   :512.329  \n",
       "                                  (Other) :1261   NA's   :1        \n",
       "             Cabin      Embarked  \n",
       " C23 C25 C27    :   6   C   :270  \n",
       " B57 B59 B63 B66:   5   Q   :123  \n",
       " G6             :   5   S   :914  \n",
       " B96 B98        :   4   NA's:  2  \n",
       " C22 C26        :   4             \n",
       " (Other)        : 271             \n",
       " NA's           :1014             "
      ]
     },
     "metadata": {},
     "output_type": "display_data"
    }
   ],
   "source": [
    "summary(total)"
   ]
  },
  {
   "cell_type": "code",
   "execution_count": 36,
   "metadata": {
    "collapsed": false
   },
   "outputs": [
    {
     "name": "stdout",
     "output_type": "stream",
     "text": [
      "'data.frame':\t1309 obs. of  12 variables:\n",
      " $ PassengerId: int  1 2 3 4 5 6 7 8 9 10 ...\n",
      " $ Survived   : int  0 1 1 1 0 0 0 0 1 1 ...\n",
      " $ Pclass     : int  3 1 3 1 3 3 1 3 3 2 ...\n",
      " $ Name       : Factor w/ 1307 levels \"Abbing, Mr. Anthony\",..: 109 191 358 277 16 559 520 629 417 581 ...\n",
      " $ Sex        : Factor w/ 2 levels \"female\",\"male\": 2 1 1 1 2 2 2 2 1 1 ...\n",
      " $ Age        : num  22 38 26 35 35 NA 54 2 27 14 ...\n",
      " $ SibSp      : int  1 1 0 1 0 0 0 3 0 1 ...\n",
      " $ Parch      : int  0 0 0 0 0 0 0 1 2 0 ...\n",
      " $ Ticket     : Factor w/ 929 levels \"110152\",\"110413\",..: 524 597 670 50 473 276 86 396 345 133 ...\n",
      " $ Fare       : num  7.25 71.28 7.92 53.1 8.05 ...\n",
      " $ Cabin      : Factor w/ 186 levels \"A10\",\"A14\",\"A16\",..: NA 82 NA 56 NA NA 130 NA NA NA ...\n",
      " $ Embarked   : Factor w/ 3 levels \"C\",\"Q\",\"S\": 3 1 3 3 3 2 3 3 3 1 ...\n"
     ]
    }
   ],
   "source": [
    "str(total)"
   ]
  },
  {
   "cell_type": "code",
   "execution_count": 37,
   "metadata": {
    "collapsed": false
   },
   "outputs": [
    {
     "data": {
      "text/plain": [
       "\n",
       "         C          Q          S \n",
       "0.20657995 0.09410865 0.69931140 "
      ]
     },
     "metadata": {},
     "output_type": "display_data"
    }
   ],
   "source": [
    "prop.table(table(total$Embarked))"
   ]
  },
  {
   "cell_type": "code",
   "execution_count": 38,
   "metadata": {
    "collapsed": true
   },
   "outputs": [],
   "source": [
    "## Embarked column has only 2 missing values and almost 70% of time non-missing terms are \"S\" so the missing\n",
    "## values can safely be assumed as \"S\"\n",
    "total$Embarked = as.character(total$Embarked)\n",
    "total$Embarked[is.na(total$Embarked)] = \"S\"\n",
    "total$Embarked = factor(total$Embarked)"
   ]
  },
  {
   "cell_type": "code",
   "execution_count": 39,
   "metadata": {
    "collapsed": true
   },
   "outputs": [],
   "source": [
    "## Fare has only 1 missing value which can be replaced by the median\n",
    "total$Fare = as.integer(total$Fare)\n",
    "total$Fare[is.na(total$Fare)] = median(total$Fare, na.rm = T)"
   ]
  },
  {
   "cell_type": "code",
   "execution_count": 40,
   "metadata": {
    "collapsed": true
   },
   "outputs": [],
   "source": [
    "## Feature Engineering"
   ]
  },
  {
   "cell_type": "code",
   "execution_count": 41,
   "metadata": {
    "collapsed": true
   },
   "outputs": [],
   "source": [
    "## Let's deal with the Name column first. Observe that after surname we see a title is given to every person\n",
    "## like Mr., Mrs., Master etc. Lets try to use this and extract some information out of it"
   ]
  },
  {
   "cell_type": "code",
   "execution_count": 44,
   "metadata": {
    "collapsed": false
   },
   "outputs": [],
   "source": [
    "## Observe that there is a comma(,) and a period(.) before and after the title. It can be used as a pattern\n",
    "## to extract the title using str_extract()\n",
    "total$Name = as.character(total$Name)"
   ]
  },
  {
   "cell_type": "code",
   "execution_count": 45,
   "metadata": {
    "collapsed": false
   },
   "outputs": [
    {
     "data": {
      "text/html": [
       "<ol>\n",
       "\t<li><ol class=list-inline>\n",
       "\t<li>'Braund'</li>\n",
       "\t<li>' Mr'</li>\n",
       "\t<li>' Owen Harris'</li>\n",
       "</ol>\n",
       "</li>\n",
       "</ol>\n"
      ],
      "text/latex": [
       "\\begin{enumerate}\n",
       "\\item \\begin{enumerate*}\n",
       "\\item 'Braund'\n",
       "\\item ' Mr'\n",
       "\\item ' Owen Harris'\n",
       "\\end{enumerate*}\n",
       "\n",
       "\\end{enumerate}\n"
      ],
      "text/markdown": [
       "1. 1. 'Braund'\n",
       "2. ' Mr'\n",
       "3. ' Owen Harris'\n",
       "\n",
       "\n",
       "\n",
       "\n",
       "\n"
      ],
      "text/plain": [
       "[[1]]\n",
       "[1] \"Braund\"       \" Mr\"          \" Owen Harris\"\n"
      ]
     },
     "metadata": {},
     "output_type": "display_data"
    }
   ],
   "source": [
    "strsplit(total$Name[1],split = '[,.]') ## see that the 2nd word is what we want here"
   ]
  },
  {
   "cell_type": "code",
   "execution_count": 46,
   "metadata": {
    "collapsed": true
   },
   "outputs": [],
   "source": [
    "total$Title = sapply(total$Name,FUN = function(x){strsplit(x,split = '[,.]')[[1]][2]})\n",
    "total$Title = sub(' ', '', total$Title)"
   ]
  },
  {
   "cell_type": "code",
   "execution_count": 47,
   "metadata": {
    "collapsed": false
   },
   "outputs": [
    {
     "data": {
      "text/plain": [
       "\n",
       "        Capt          Col          Don         Dona           Dr     Jonkheer \n",
       "           1            4            1            1            8            1 \n",
       "        Lady        Major       Master         Miss         Mlle          Mme \n",
       "           1            2           61          260            2            1 \n",
       "          Mr          Mrs           Ms          Rev          Sir the Countess \n",
       "         757          197            2            8            1            1 "
      ]
     },
     "metadata": {},
     "output_type": "display_data"
    }
   ],
   "source": [
    "table(total$Title)"
   ]
  },
  {
   "cell_type": "code",
   "execution_count": 48,
   "metadata": {
    "collapsed": true
   },
   "outputs": [],
   "source": [
    "## few titles are rare and can be combined together\n",
    "total$Title[total$Title %in% c('Capt', 'Col', 'Don', 'Major', 'Sir', 'Jonkheer')] = 'Sir'\n",
    "total$Title[total$Title %in% c('Dona', 'Lady', 'the Countess')] = 'Lady'\n",
    "total$Title[total$Title %in% c('Mlle', 'Mme')] = 'Ms'\n",
    "total$Title = as.factor(total$Title)"
   ]
  },
  {
   "cell_type": "code",
   "execution_count": 49,
   "metadata": {
    "collapsed": false
   },
   "outputs": [
    {
     "data": {
      "text/plain": [
       "\n",
       "    Dr   Lady Master   Miss     Mr    Mrs     Ms    Rev    Sir \n",
       "     8      3     61    260    757    197      5      8     10 "
      ]
     },
     "metadata": {},
     "output_type": "display_data"
    }
   ],
   "source": [
    "table(total$Title)"
   ]
  },
  {
   "cell_type": "code",
   "execution_count": 50,
   "metadata": {
    "collapsed": false,
    "scrolled": true
   },
   "outputs": [
    {
     "data": {
      "text/plain": [
       "  PassengerId      Survived          Pclass          Name          \n",
       " Min.   :   1   Min.   :0.0000   Min.   :1.000   Length:1309       \n",
       " 1st Qu.: 328   1st Qu.:0.0000   1st Qu.:2.000   Class :character  \n",
       " Median : 655   Median :0.0000   Median :3.000   Mode  :character  \n",
       " Mean   : 655   Mean   :0.3838   Mean   :2.295                     \n",
       " 3rd Qu.: 982   3rd Qu.:1.0000   3rd Qu.:3.000                     \n",
       " Max.   :1309   Max.   :1.0000   Max.   :3.000                     \n",
       "                NA's   :418                                        \n",
       "     Sex           Age            SibSp            Parch            Ticket    \n",
       " female:466   Min.   : 0.17   Min.   :0.0000   Min.   :0.000   CA. 2343:  11  \n",
       " male  :843   1st Qu.:21.00   1st Qu.:0.0000   1st Qu.:0.000   1601    :   8  \n",
       "              Median :28.00   Median :0.0000   Median :0.000   CA 2144 :   8  \n",
       "              Mean   :29.88   Mean   :0.4989   Mean   :0.385   3101295 :   7  \n",
       "              3rd Qu.:39.00   3rd Qu.:1.0000   3rd Qu.:0.000   347077  :   7  \n",
       "              Max.   :80.00   Max.   :8.0000   Max.   :9.000   347082  :   7  \n",
       "              NA's   :263                                      (Other) :1261  \n",
       "      Fare                    Cabin      Embarked     Title    \n",
       " Min.   :  0.00   C23 C25 C27    :   6   C:270    Mr     :757  \n",
       " 1st Qu.:  7.00   B57 B59 B63 B66:   5   Q:123    Miss   :260  \n",
       " Median : 14.00   G6             :   5   S:916    Mrs    :197  \n",
       " Mean   : 32.85   B96 B98        :   4            Master : 61  \n",
       " 3rd Qu.: 31.00   C22 C26        :   4            Sir    : 10  \n",
       " Max.   :512.00   (Other)        : 271            Dr     :  8  \n",
       "                  NA's           :1014            (Other): 16  "
      ]
     },
     "metadata": {},
     "output_type": "display_data"
    }
   ],
   "source": [
    "summary(total)"
   ]
  },
  {
   "cell_type": "code",
   "execution_count": 51,
   "metadata": {
    "collapsed": true
   },
   "outputs": [],
   "source": [
    "## looking at the size of family and their survival chances\n",
    "total$FamilySize = total$SibSp + total$Parch + 1"
   ]
  },
  {
   "cell_type": "code",
   "execution_count": 52,
   "metadata": {
    "collapsed": false,
    "scrolled": true
   },
   "outputs": [
    {
     "data": {
      "text/plain": [
       "    \n",
       "       0   1\n",
       "  1  374 163\n",
       "  2   72  89\n",
       "  3   43  59\n",
       "  4    8  21\n",
       "  5   12   3\n",
       "  6   19   3\n",
       "  7    8   4\n",
       "  8    6   0\n",
       "  11   7   0"
      ]
     },
     "metadata": {},
     "output_type": "display_data"
    }
   ],
   "source": [
    "## people with family members above 4 are not likely to survive\n",
    "table(total$FamilySize[1:891],train$Survived)"
   ]
  },
  {
   "cell_type": "code",
   "execution_count": 53,
   "metadata": {
    "collapsed": true
   },
   "outputs": [],
   "source": [
    "## we can also separate families by extracting their surnames and attach familysize to it to make sure that\n",
    "## two people of same surname belongs to the same family\n",
    "total$Surname = sapply(total$Name, FUN=function(x) {strsplit(x, split='[,.]')[[1]][1]})\n",
    "total$FamilyID = paste(as.character(total$FamilySize), total$Surname, sep=\"\")"
   ]
  },
  {
   "cell_type": "code",
   "execution_count": 54,
   "metadata": {
    "collapsed": true
   },
   "outputs": [],
   "source": [
    "## there are too many levels in FamilyID. We need to reduce them\n",
    "total$FamilyID[total$FamilySize == '1'] = 'Small'\n",
    "famIDs = data.frame(table(total$FamilyID))\n",
    "famIDs = famIDs[famIDs$Freq == 2,]\n",
    "total$FamilyID[total$FamilyID %in% famIDs$Var1] = 'FamilySize2'\n",
    "total$FamilyID = as.factor(total$FamilyID)"
   ]
  },
  {
   "cell_type": "code",
   "execution_count": 55,
   "metadata": {
    "collapsed": true
   },
   "outputs": [],
   "source": [
    "## By intuition, we can say that mothers and children were more likely to survive. Let's check it out\n",
    "total$Mother = 0\n",
    "total$Mother[total$Sex == 'female' & total$Parch > 0 & total$Age > 17 & total$Title == 'Mrs'] = 1\n",
    "total$Mother = as.factor(total$Mother)\n",
    "total$Child = 0\n",
    "total$Child[total$Age <= 15] = 1\n",
    "total$Child = total$Child"
   ]
  },
  {
   "cell_type": "code",
   "execution_count": 56,
   "metadata": {
    "collapsed": true
   },
   "outputs": [],
   "source": [
    "## convert the variables to factors\n",
    "total[,\"Survived\"] = as.factor(total[,\"Survived\"])\n",
    "total[,\"Pclass\"] = as.factor(total[,\"Pclass\"])\n",
    "total[,\"SibSp\"] = as.factor(total[,\"SibSp\"])\n",
    "total[,\"Parch\"] = as.factor(total[,\"Parch\"])\n",
    "total[,\"Embarked\"] = as.factor(total[,\"Embarked\"])"
   ]
  },
  {
   "cell_type": "code",
   "execution_count": 63,
   "metadata": {
    "collapsed": false
   },
   "outputs": [],
   "source": [
    "## Age column has some missing values which need to be dealt with\n",
    "## Missing values can be imputed using a number of methods like using \"anova\" method in rpart\n",
    "library(rpart, warn.conflicts = F)"
   ]
  },
  {
   "cell_type": "code",
   "execution_count": 58,
   "metadata": {
    "collapsed": true
   },
   "outputs": [],
   "source": [
    "Agefit = rpart(Age ~ Pclass+Sex+SibSp+Parch+Fare+Embarked+Title+FamilySize+FamilyID,\n",
    "               data=total[!is.na(total$Age),], method = \"anova\")"
   ]
  },
  {
   "cell_type": "code",
   "execution_count": 59,
   "metadata": {
    "collapsed": true
   },
   "outputs": [],
   "source": [
    "total$Age[is.na(total$Age)] = predict(Agefit, total[is.na(total$Age),])"
   ]
  },
  {
   "cell_type": "code",
   "execution_count": 60,
   "metadata": {
    "collapsed": true
   },
   "outputs": [],
   "source": [
    "## divide the dataset back into training set and testing set\n",
    "trainNew = total[1:891,]\n",
    "testNew = total[892:1309,]"
   ]
  },
  {
   "cell_type": "code",
   "execution_count": 62,
   "metadata": {
    "collapsed": false
   },
   "outputs": [],
   "source": [
    "## now build the model and make predictions\n",
    "## cforest will take a little bit time to build the model\n",
    "library(party, warn.conflicts = F)"
   ]
  },
  {
   "cell_type": "code",
   "execution_count": 65,
   "metadata": {
    "collapsed": true
   },
   "outputs": [],
   "source": [
    "mod.cforest = cforest(Survived ~ Pclass + Sex + Age + SibSp + Parch + Fare +\n",
    "                        Embarked + Title + FamilySize + FamilyID + Mother + Child, data = trainNew, \n",
    "                        controls=cforest_unbiased(ntree=2000, mtry=3))"
   ]
  },
  {
   "cell_type": "code",
   "execution_count": 66,
   "metadata": {
    "collapsed": true
   },
   "outputs": [],
   "source": [
    "Prediction = predict(mod.cforest, testNew, OOB=TRUE, type = \"response\")"
   ]
  },
  {
   "cell_type": "code",
   "execution_count": 67,
   "metadata": {
    "collapsed": true
   },
   "outputs": [],
   "source": [
    "submit = data.frame(PassengerId = test$PassengerId, Survived = Prediction)"
   ]
  },
  {
   "cell_type": "code",
   "execution_count": 68,
   "metadata": {
    "collapsed": true
   },
   "outputs": [],
   "source": [
    "write.csv(submit, file = \"submission.csv\", row.names = FALSE)"
   ]
  }
 ],
 "metadata": {
  "kernelspec": {
   "display_name": "R",
   "language": "R",
   "name": "ir"
  },
  "language_info": {
   "codemirror_mode": "r",
   "file_extension": ".r",
   "mimetype": "text/x-r-source",
   "name": "R",
   "pygments_lexer": "r",
   "version": "3.3.1"
  }
 },
 "nbformat": 4,
 "nbformat_minor": 2
}
